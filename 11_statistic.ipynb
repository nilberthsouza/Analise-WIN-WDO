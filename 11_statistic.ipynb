{
  "nbformat": 4,
  "nbformat_minor": 0,
  "metadata": {
    "colab": {
      "name": "11-statistic.ipynb",
      "provenance": [],
      "authorship_tag": "ABX9TyNt3tOzXZFYK3e7U1HwL5Ff"
    },
    "kernelspec": {
      "name": "python3",
      "display_name": "Python 3"
    }
  },
  "cells": [
    {
      "cell_type": "markdown",
      "metadata": {
        "id": "JFqQmnnmxNVZ",
        "colab_type": "text"
      },
      "source": [
        "***Metodo Estatistico***\n",
        "\n",
        "coleta,organização , apresentação , analise e interpretação de dados experiementais\n",
        "\n",
        "seu objetivo fundamental é o estudo dos paramentros de uma população\n",
        "\n",
        "Censo: investigação de todos elementos da população\n",
        "-muitas vezes impossivel\n",
        "\n",
        "Amostragem: Seleção de alguns elementos da população - pesquisa em uma amostra\n",
        "-generalizar para a população\n",
        "\n",
        "Conceitos:\n",
        "\n",
        "-Pesquisas podem ser realizadas por meio do estudo dos elementos de uma amostra\n",
        "\n",
        "-a amostra é extraida da população que se pretende analisar\n",
        "\n",
        "-amostragem é o processo de escolha da amostra"
      ]
    },
    {
      "cell_type": "markdown",
      "metadata": {
        "id": "CwpxFt0UxRlP",
        "colab_type": "text"
      },
      "source": [
        "**Amstragem** é a atividade inicial em qualuqer estudo estatistico \n",
        "\n",
        "muitos especialistas consideram a etapa mais importante\n",
        "\n",
        "consiste na escolha criteriosa dos elementos que partiparão do estudo \n",
        "\n",
        "\n",
        "\n"
      ]
    },
    {
      "cell_type": "markdown",
      "metadata": {
        "id": "8QGCfieZxjXt",
        "colab_type": "text"
      },
      "source": [
        "Exemplo: Pesquisas eleitorais\n",
        "\n",
        "\n",
        "*   Realizada para conhecer as tendencias do eleitorado\n",
        "*   Resultados representativos são obtidos a partir dos dados analisados\n",
        "\n",
        "Reprensentatividade: Uma amostra Tem que consideram apesctos socioeconomicos, religiosos , culturais. \n",
        "\n"
      ]
    },
    {
      "cell_type": "markdown",
      "metadata": {
        "id": "OHoAUr-Ex51t",
        "colab_type": "text"
      },
      "source": [
        "**Amostragem** é o processo de coleta das informações de uma parte da população, a amostra\n",
        "\n",
        "***Amostra*** é parte ou subconjunto finito representativo de uma população selecionada segundo metodos adequados\n",
        "\n"
      ]
    },
    {
      "cell_type": "markdown",
      "metadata": {
        "id": "ZmnRKYfqyabV",
        "colab_type": "text"
      },
      "source": [
        "***Metodo EStatistico***\n",
        "\n",
        "\n",
        "1.   Definição do problema\n",
        "2.   Planejamento da pesquisa\n",
        "3.   Coleta dos dados\n",
        "4.   Apuração dos dados\n",
        "5.   Apresentação dos dados\n",
        "6.   Analise e interpretação dos dados\n",
        "\n",
        "\n",
        "***Planejamento da pesquisa***\n",
        "\n",
        "1.    Quais procedimentos para se resolver o problema\n",
        "2.    Qual o metodo de seleção da amostra\n",
        "3.    Como levantar informações da amostra\n",
        "4.    QUe dados deverão ser obtidos da amostra\n",
        "5.    Qual o cronograma de atividades?\n",
        "6.    Quais os custos envolvidos?\n",
        "\n",
        "\n",
        "***Coleta de dados***\n",
        "1.    encontro com os participantes\n",
        "2.    aplicação dos questionarios\n",
        "3.    coleta das respostas\n",
        "\n",
        "***Apuração dos dados*** \n",
        "1.    Tabulação das respostas da amostra\n",
        "2.    Consolidação de acordo com os critérios desejados\n",
        "\n"
      ]
    },
    {
      "cell_type": "markdown",
      "metadata": {
        "id": "3jYdWqMTz9fl",
        "colab_type": "text"
      },
      "source": [
        "***Apresentação dos dados***\n",
        "1.   formatação de tabelas\n",
        "2.   formatação dos gráficos\n",
        "\n",
        "\n",
        "***Inferência Estatística***\n",
        "1. Generalizar para a população\n",
        "2. Deve considerar as estatisticas de teste\n",
        "3. Deve considerar as condições de erro previstas\n",
        "4. Pode ser mais efetivo que entrevistar toda a população "
      ]
    },
    {
      "cell_type": "markdown",
      "metadata": {
        "id": "Z29OMkKq07nJ",
        "colab_type": "text"
      },
      "source": [
        "## Amostragem Não Probabilística\n",
        "\n",
        "***Amostragem por conveniência(Acidental)***\n",
        "1.   Formada por elementos conforme estes vão aparecendo \n",
        "2.   Elementos são os possiveis de se obter\n",
        "3.    Encerra quando completar o número de elementos da amostra\n",
        "Exemplo: pesqisa de opinião que os entrevistados são acidentalmente escolhidos\n",
        "\n",
        "***Amostragem Intencional***\n",
        "1.   Formada por elementos escolhidos por determinado criterio\n",
        "2.   Grupo de elementos intencionamente escolhidaos para compor a amostra\n",
        "\n",
        "Exemplo: pesquisa de opnião em que os entrevistados são especialistas em determinados assunto.\n",
        "\n",
        "***Amostragem por Quotas(Proporcionalidade)***\n",
        "1.   Classificação da população de acordo com propriedades \n",
        "2.   Determinação da proporção da população para cada propriedade(quotas)\n",
        "3.   Seleção não aleatória de elementos de cada quota identificada"
      ]
    },
    {
      "cell_type": "markdown",
      "metadata": {
        "id": "JWxfgnro2ENp",
        "colab_type": "text"
      },
      "source": [
        "## Amostragem probabilistica\n",
        "\n",
        "1.   Cada elemento da popução possui ***Probabilidade conhecida*** de ser escolhido \n",
        "2.   Usualmente a probabilidade é a mesma entre os elementos\n",
        "\n",
        "3.   População com ***N elementos***\n",
        "\n",
        "4.   P(participar) = 1/N"
      ]
    },
    {
      "cell_type": "markdown",
      "metadata": {
        "id": "Lajz2rUw2fiW",
        "colab_type": "text"
      },
      "source": [
        "Nesse caso:\n",
        "1.   Pode-se realizar inferência sobre a população a partir dos parâmetros estudados na amostra\n",
        "2.   ***Resultados são generalizaveis***\n",
        "\n",
        "***Tipos:***\n",
        "1.  Amostragem Aleatoria Simples\n",
        "2.  Amostragem Aleatoria Estratificada\n",
        "3.  Amostragem Sistematica\n",
        "4.  Amostragem por conglomerado\n",
        "\n",
        "***Amostragem Aleatoria Simples***\n",
        "1.   Seleção de amostra de tamanho \"k\" dentre as \"n\" unidades da população\n",
        "2.   Amostragem realizada sem reposição \n",
        "3. Número de amostras possiveis:\n",
        "\n"
      ]
    },
    {
      "cell_type": "markdown",
      "metadata": {
        "id": "vnCfYX_63921",
        "colab_type": "text"
      },
      "source": [
        "$${n \\choose k} = \\frac {n!}{k!(n-k)!}$$"
      ]
    },
    {
      "cell_type": "markdown",
      "metadata": {
        "id": "mQif4bLi5dUF",
        "colab_type": "text"
      },
      "source": [
        "***Amostragem Aleatoria Estratificada***\n",
        "1. Obtida separando-se as unidades da população em grupos que não são superpostos e chamados de estratos\n",
        "2. Seleciona-se amostras aleatorias indenpendentes simples de cada estrato\n",
        "\n",
        "Exemplo: \n",
        "Dois tipos de amostragem estratificada\n",
        "1. de igual tamanho\n",
        "2. Proporcional\n",
        "\n",
        "$$\\frac{Na}{N} = \\frac{na}{n} \\rightarrow na = \\frac{n}{N} \\cdot Na $$\n",
        "\n",
        "Sendo N o numero de unidades da população\n",
        "n , o numero de unidades na amostra\n",
        "Na numero de unidades do estrato A\n",
        "na numero de amostras de A"
      ]
    },
    {
      "cell_type": "markdown",
      "metadata": {
        "id": "-gAN8Ce_7lHc",
        "colab_type": "text"
      },
      "source": [
        "***Amostragem por Conglomerado***\n",
        "\n",
        "1. Amostra aleatória simples em que cada unidade de amostragem é um grupo ou conglomerado de elementos\n",
        "2. Necessário especificar conglomerados apropriados\n",
        "3. Todos os elementos do conglomerados fazem parte da amostra"
      ]
    },
    {
      "cell_type": "markdown",
      "metadata": {
        "id": "n4cmHV9t79UT",
        "colab_type": "text"
      },
      "source": [
        "1. Os elementos em um conglomerado tendem a ter caracteristicas similares\n",
        "2. O numero de elementos num conglomerado deve ser pequeno\n",
        "3. O número de conglomerados deve  ser razoavelmente grande\n",
        "\n",
        "Exemplo:\n",
        "\n",
        "Levantamento da população de uma cidade\n",
        "- Mapa Indicadndo cada quarteirão \n",
        "- Selecione amostra dos quarteirões\n",
        "- Realiza contagem completa de todos os que residem nos quarteiroes sorteados\n",
        "\n",
        "\n",
        "***Amostragem Sistematica***\n",
        "- Elementos da população estão ordenados\n",
        "- A seleção dos elementos que constituirão a amostra obedece um determiado intervalo\n",
        "- A amostra sistematica de n elementos de uma população de tamanho N-K deve ser menor ou igual a N/n\n",
        "\n",
        "> menos sujeita a erros do entrevistador\n",
        "\n",
        "1. Estabelecer o intervalo de amostragem K\n",
        "\n",
        "\n",
        "$$ k = \\frac{N}{n}$$\n",
        "\n",
        "Para valores de K=K/n , arredondar para valor inteiro menor\n"
      ]
    }
  ]
}