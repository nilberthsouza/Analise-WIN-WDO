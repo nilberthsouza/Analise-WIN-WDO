{
 "cells": [
  {
   "cell_type": "markdown",
   "metadata": {},
   "source": [
    "# Analisando Correlação entre WDO - mini dolar e WIN- mini indice\n"
   ]
  },
  {
   "cell_type": "code",
   "execution_count": 81,
   "metadata": {},
   "outputs": [],
   "source": [
    "import pandas as pd\n",
    "import numpy as np\n",
    "import matplotlib.pyplot as plt\n",
    "import seaborn as sns\n",
    "#pro metodo Counter\n",
    "from collections import Counter\n",
    "#para shapiro wilk , pearson correlation, linear regression\n",
    "from scipy import stats\n",
    "\n",
    "\n"
   ]
  },
  {
   "cell_type": "code",
   "execution_count": 82,
   "metadata": {},
   "outputs": [
    {
     "data": {
      "text/html": [
       "<div>\n",
       "<style scoped>\n",
       "    .dataframe tbody tr th:only-of-type {\n",
       "        vertical-align: middle;\n",
       "    }\n",
       "\n",
       "    .dataframe tbody tr th {\n",
       "        vertical-align: top;\n",
       "    }\n",
       "\n",
       "    .dataframe thead th {\n",
       "        text-align: right;\n",
       "    }\n",
       "</style>\n",
       "<table border=\"1\" class=\"dataframe\">\n",
       "  <thead>\n",
       "    <tr style=\"text-align: right;\">\n",
       "      <th></th>\n",
       "      <th>Data</th>\n",
       "      <th>Último</th>\n",
       "      <th>Abertura</th>\n",
       "      <th>Máxima</th>\n",
       "      <th>Mínima</th>\n",
       "      <th>Vol.</th>\n",
       "      <th>Var%</th>\n",
       "    </tr>\n",
       "  </thead>\n",
       "  <tbody>\n",
       "    <tr>\n",
       "      <th>0</th>\n",
       "      <td>03.04.2020</td>\n",
       "      <td>5.326,50</td>\n",
       "      <td>5.285,50</td>\n",
       "      <td>5.332,00</td>\n",
       "      <td>5.278,00</td>\n",
       "      <td>1,09M</td>\n",
       "      <td>0,91%</td>\n",
       "    </tr>\n",
       "    <tr>\n",
       "      <th>1</th>\n",
       "      <td>02.04.2020</td>\n",
       "      <td>5.278,63</td>\n",
       "      <td>5.258,00</td>\n",
       "      <td>5.294,00</td>\n",
       "      <td>5.231,50</td>\n",
       "      <td>1,84M</td>\n",
       "      <td>0,34%</td>\n",
       "    </tr>\n",
       "    <tr>\n",
       "      <th>2</th>\n",
       "      <td>01.04.2020</td>\n",
       "      <td>5.260,50</td>\n",
       "      <td>5.238,50</td>\n",
       "      <td>5.283,00</td>\n",
       "      <td>5.231,00</td>\n",
       "      <td>1,87M</td>\n",
       "      <td>0,89%</td>\n",
       "    </tr>\n",
       "    <tr>\n",
       "      <th>3</th>\n",
       "      <td>31.03.2020</td>\n",
       "      <td>5.214,00</td>\n",
       "      <td>5.194,50</td>\n",
       "      <td>5.214,00</td>\n",
       "      <td>5.169,50</td>\n",
       "      <td>1,85M</td>\n",
       "      <td>0,67%</td>\n",
       "    </tr>\n",
       "    <tr>\n",
       "      <th>4</th>\n",
       "      <td>30.03.2020</td>\n",
       "      <td>5.179,38</td>\n",
       "      <td>5.121,00</td>\n",
       "      <td>5.198,00</td>\n",
       "      <td>5.112,00</td>\n",
       "      <td>1,77M</td>\n",
       "      <td>2,18%</td>\n",
       "    </tr>\n",
       "  </tbody>\n",
       "</table>\n",
       "</div>"
      ],
      "text/plain": [
       "         Data    Último  Abertura    Máxima    Mínima   Vol.   Var%\n",
       "0  03.04.2020  5.326,50  5.285,50  5.332,00  5.278,00  1,09M  0,91%\n",
       "1  02.04.2020  5.278,63  5.258,00  5.294,00  5.231,50  1,84M  0,34%\n",
       "2  01.04.2020  5.260,50  5.238,50  5.283,00  5.231,00  1,87M  0,89%\n",
       "3  31.03.2020  5.214,00  5.194,50  5.214,00  5.169,50  1,85M  0,67%\n",
       "4  30.03.2020  5.179,38  5.121,00  5.198,00  5.112,00  1,77M  2,18%"
      ]
     },
     "execution_count": 82,
     "metadata": {},
     "output_type": "execute_result"
    }
   ],
   "source": [
    "wdo = pd.read_csv('wdo.csv')\n",
    "win = pd.read_csv('win.csv')\n",
    "\n",
    "wdo.head()"
   ]
  },
  {
   "cell_type": "code",
   "execution_count": 83,
   "metadata": {},
   "outputs": [
    {
     "data": {
      "text/html": [
       "<div>\n",
       "<style scoped>\n",
       "    .dataframe tbody tr th:only-of-type {\n",
       "        vertical-align: middle;\n",
       "    }\n",
       "\n",
       "    .dataframe tbody tr th {\n",
       "        vertical-align: top;\n",
       "    }\n",
       "\n",
       "    .dataframe thead th {\n",
       "        text-align: right;\n",
       "    }\n",
       "</style>\n",
       "<table border=\"1\" class=\"dataframe\">\n",
       "  <thead>\n",
       "    <tr style=\"text-align: right;\">\n",
       "      <th></th>\n",
       "      <th>Data</th>\n",
       "      <th>Último</th>\n",
       "      <th>Var%</th>\n",
       "    </tr>\n",
       "  </thead>\n",
       "  <tbody>\n",
       "    <tr>\n",
       "      <th>0</th>\n",
       "      <td>03.04.2020</td>\n",
       "      <td>68.490,00</td>\n",
       "      <td>-5,03%</td>\n",
       "    </tr>\n",
       "    <tr>\n",
       "      <th>1</th>\n",
       "      <td>02.04.2020</td>\n",
       "      <td>72.117,00</td>\n",
       "      <td>1,29%</td>\n",
       "    </tr>\n",
       "    <tr>\n",
       "      <th>2</th>\n",
       "      <td>01.04.2020</td>\n",
       "      <td>71.200,00</td>\n",
       "      <td>-2,18%</td>\n",
       "    </tr>\n",
       "    <tr>\n",
       "      <th>3</th>\n",
       "      <td>31.03.2020</td>\n",
       "      <td>72.788,00</td>\n",
       "      <td>-2,44%</td>\n",
       "    </tr>\n",
       "    <tr>\n",
       "      <th>4</th>\n",
       "      <td>30.03.2020</td>\n",
       "      <td>74.612,00</td>\n",
       "      <td>2,14%</td>\n",
       "    </tr>\n",
       "  </tbody>\n",
       "</table>\n",
       "</div>"
      ],
      "text/plain": [
       "         Data     Último    Var%\n",
       "0  03.04.2020  68.490,00  -5,03%\n",
       "1  02.04.2020  72.117,00   1,29%\n",
       "2  01.04.2020  71.200,00  -2,18%\n",
       "3  31.03.2020  72.788,00  -2,44%\n",
       "4  30.03.2020  74.612,00   2,14%"
      ]
     },
     "execution_count": 83,
     "metadata": {},
     "output_type": "execute_result"
    }
   ],
   "source": [
    "wdo.drop(['Abertura','Máxima','Mínima','Vol.'],axis=1,inplace=True)\n",
    "win.drop(['Abertura','Máxima','Mínima','Vol.'],axis=1,inplace=True)\n",
    "\n",
    "win.head()"
   ]
  },
  {
   "cell_type": "markdown",
   "metadata": {},
   "source": [
    "Antes de começar estudar Data Science eu era viciado em excel e como eu estava bem focando em técnicas de trading ,meu foco era tirar insights dos dados para tentar melhorar meu desempenho e entender melhor como funcionava o mercado. Com essa experiencia eu sei que é bem comum ao exportar dados de plataformas de trading que venham linhas faltando. E como nossa intensão é calcular a correlação entre os dois ativo é necessarios que não existam datas faltando. Para isso primariamente vamos calcular o numero de linhas de cada dataframe. "
   ]
  },
  {
   "cell_type": "code",
   "execution_count": 84,
   "metadata": {},
   "outputs": [
    {
     "name": "stdout",
     "output_type": "stream",
     "text": [
      "Numero de linhas em Win: 251\n",
      "Numero de linhas em Wdo: 251\n"
     ]
    }
   ],
   "source": [
    "print('Numero de linhas em Win:',len(win))\n",
    "print('Numero de linhas em Wdo:',len(wdo))"
   ]
  },
  {
   "cell_type": "markdown",
   "metadata": {},
   "source": [
    "Agora vamos comparar o inicio dos dois dataframes para checar se as datas iniciam se correspondem:"
   ]
  },
  {
   "cell_type": "code",
   "execution_count": 85,
   "metadata": {},
   "outputs": [
    {
     "name": "stdout",
     "output_type": "stream",
     "text": [
      "         Data    Último   Var%\n",
      "0  03.04.2020  5.326,50  0,91%\n",
      "1  02.04.2020  5.278,63  0,34%\n",
      "2  01.04.2020  5.260,50  0,89%\n",
      "3  31.03.2020  5.214,00  0,67%\n",
      "4  30.03.2020  5.179,38  2,18%\n",
      "         Data     Último    Var%\n",
      "0  03.04.2020  68.490,00  -5,03%\n",
      "1  02.04.2020  72.117,00   1,29%\n",
      "2  01.04.2020  71.200,00  -2,18%\n",
      "3  31.03.2020  72.788,00  -2,44%\n",
      "4  30.03.2020  74.612,00   2,14%\n"
     ]
    }
   ],
   "source": [
    "print(wdo.head()) \n",
    "print(win.head())\n"
   ]
  },
  {
   "cell_type": "markdown",
   "metadata": {},
   "source": [
    "É possivel também notar que nossos dados estão começando do mais atual e indo pro mais antigo. Queremos reverter esses dados. Para isso , primeiro vamos adcionar uma coluna `ind` em cada dataset e depois ordenaremos em ordem decrescente para que o dado mais antigo se encontre na primeira coluna. "
   ]
  },
  {
   "cell_type": "code",
   "execution_count": 86,
   "metadata": {},
   "outputs": [
    {
     "name": "stdout",
     "output_type": "stream",
     "text": [
      "         Data    Último   Var%  indice\n",
      "0  03.04.2020  5.326,50  0,91%       0\n",
      "1  02.04.2020  5.278,63  0,34%       1\n",
      "2  01.04.2020  5.260,50  0,89%       2\n",
      "3  31.03.2020  5.214,00  0,67%       3\n",
      "4  30.03.2020  5.179,38  2,18%       4\n"
     ]
    },
    {
     "name": "stderr",
     "output_type": "stream",
     "text": [
      "/home/hironu/anaconda3/lib/python3.7/site-packages/ipykernel_launcher.py:3: SettingWithCopyWarning: \n",
      "A value is trying to be set on a copy of a slice from a DataFrame\n",
      "\n",
      "See the caveats in the documentation: https://pandas.pydata.org/pandas-docs/stable/user_guide/indexing.html#returning-a-view-versus-a-copy\n",
      "  This is separate from the ipykernel package so we can avoid doing imports until\n"
     ]
    }
   ],
   "source": [
    "wdo['indice'] = 0\n",
    "for i in range(len(wdo)):\n",
    "    wdo['indice'][i] = i\n",
    "\n",
    "print(wdo.head())"
   ]
  },
  {
   "cell_type": "markdown",
   "metadata": {},
   "source": [
    "Faremos o mesmo no dataset win:"
   ]
  },
  {
   "cell_type": "code",
   "execution_count": 87,
   "metadata": {},
   "outputs": [
    {
     "name": "stdout",
     "output_type": "stream",
     "text": [
      "           Data     Último    Var%  indice\n",
      "246  09.04.2019  96.271,00  -1,19%     246\n",
      "247  08.04.2019  97.426,00   0,17%     247\n",
      "248  05.04.2019  97.264,00   0,80%     248\n",
      "249  04.04.2019  96.494,00   1,93%     249\n",
      "250  03.04.2019  94.665,00  -0,90%     250\n"
     ]
    },
    {
     "name": "stderr",
     "output_type": "stream",
     "text": [
      "/home/hironu/anaconda3/lib/python3.7/site-packages/ipykernel_launcher.py:3: SettingWithCopyWarning: \n",
      "A value is trying to be set on a copy of a slice from a DataFrame\n",
      "\n",
      "See the caveats in the documentation: https://pandas.pydata.org/pandas-docs/stable/user_guide/indexing.html#returning-a-view-versus-a-copy\n",
      "  This is separate from the ipykernel package so we can avoid doing imports until\n"
     ]
    }
   ],
   "source": [
    "win['indice'] = 0\n",
    "for i in range(len(win)):\n",
    "    win['indice'][i] = i\n",
    "print(win.tail())"
   ]
  },
  {
   "cell_type": "markdown",
   "metadata": {},
   "source": [
    "Agora vamos usar o metodo `sort_values` para ordenar os dados em foma decrescente baseando se na coluna indice como criterio:"
   ]
  },
  {
   "cell_type": "code",
   "execution_count": 88,
   "metadata": {},
   "outputs": [
    {
     "data": {
      "text/html": [
       "<div>\n",
       "<style scoped>\n",
       "    .dataframe tbody tr th:only-of-type {\n",
       "        vertical-align: middle;\n",
       "    }\n",
       "\n",
       "    .dataframe tbody tr th {\n",
       "        vertical-align: top;\n",
       "    }\n",
       "\n",
       "    .dataframe thead th {\n",
       "        text-align: right;\n",
       "    }\n",
       "</style>\n",
       "<table border=\"1\" class=\"dataframe\">\n",
       "  <thead>\n",
       "    <tr style=\"text-align: right;\">\n",
       "      <th></th>\n",
       "      <th>index</th>\n",
       "      <th>Data</th>\n",
       "      <th>Último</th>\n",
       "      <th>Var%</th>\n",
       "    </tr>\n",
       "  </thead>\n",
       "  <tbody>\n",
       "    <tr>\n",
       "      <th>0</th>\n",
       "      <td>250</td>\n",
       "      <td>03.04.2019</td>\n",
       "      <td>94.665,00</td>\n",
       "      <td>-0,90%</td>\n",
       "    </tr>\n",
       "    <tr>\n",
       "      <th>1</th>\n",
       "      <td>249</td>\n",
       "      <td>04.04.2019</td>\n",
       "      <td>96.494,00</td>\n",
       "      <td>1,93%</td>\n",
       "    </tr>\n",
       "    <tr>\n",
       "      <th>2</th>\n",
       "      <td>248</td>\n",
       "      <td>05.04.2019</td>\n",
       "      <td>97.264,00</td>\n",
       "      <td>0,80%</td>\n",
       "    </tr>\n",
       "    <tr>\n",
       "      <th>3</th>\n",
       "      <td>247</td>\n",
       "      <td>08.04.2019</td>\n",
       "      <td>97.426,00</td>\n",
       "      <td>0,17%</td>\n",
       "    </tr>\n",
       "    <tr>\n",
       "      <th>4</th>\n",
       "      <td>246</td>\n",
       "      <td>09.04.2019</td>\n",
       "      <td>96.271,00</td>\n",
       "      <td>-1,19%</td>\n",
       "    </tr>\n",
       "  </tbody>\n",
       "</table>\n",
       "</div>"
      ],
      "text/plain": [
       "   index        Data     Último    Var%\n",
       "0    250  03.04.2019  94.665,00  -0,90%\n",
       "1    249  04.04.2019  96.494,00   1,93%\n",
       "2    248  05.04.2019  97.264,00   0,80%\n",
       "3    247  08.04.2019  97.426,00   0,17%\n",
       "4    246  09.04.2019  96.271,00  -1,19%"
      ]
     },
     "execution_count": 88,
     "metadata": {},
     "output_type": "execute_result"
    }
   ],
   "source": [
    "wdo = wdo.sort_values(by ='indice',ascending=False )\n",
    "win = win.sort_values(by='indice',ascending=False)\n",
    "\n",
    "wdo.drop(['indice'],inplace=True,axis=1)\n",
    "win.drop(['indice'],inplace=True,axis=1)\n",
    "\n",
    "wdo.reset_index(inplace=True)\n",
    "win.reset_index(inplace=True)\n",
    "\n",
    "win.head()"
   ]
  },
  {
   "cell_type": "markdown",
   "metadata": {},
   "source": []
  },
  {
   "cell_type": "code",
   "execution_count": null,
   "metadata": {},
   "outputs": [],
   "source": []
  },
  {
   "cell_type": "code",
   "execution_count": 89,
   "metadata": {},
   "outputs": [
    {
     "name": "stderr",
     "output_type": "stream",
     "text": [
      "/home/hironu/anaconda3/lib/python3.7/site-packages/ipykernel_launcher.py:23: SettingWithCopyWarning: \n",
      "A value is trying to be set on a copy of a slice from a DataFrame\n",
      "\n",
      "See the caveats in the documentation: https://pandas.pydata.org/pandas-docs/stable/user_guide/indexing.html#returning-a-view-versus-a-copy\n",
      "/home/hironu/anaconda3/lib/python3.7/site-packages/ipykernel_launcher.py:24: SettingWithCopyWarning: \n",
      "A value is trying to be set on a copy of a slice from a DataFrame\n",
      "\n",
      "See the caveats in the documentation: https://pandas.pydata.org/pandas-docs/stable/user_guide/indexing.html#returning-a-view-versus-a-copy\n",
      "/home/hironu/anaconda3/lib/python3.7/site-packages/ipykernel_launcher.py:26: SettingWithCopyWarning: \n",
      "A value is trying to be set on a copy of a slice from a DataFrame\n",
      "\n",
      "See the caveats in the documentation: https://pandas.pydata.org/pandas-docs/stable/user_guide/indexing.html#returning-a-view-versus-a-copy\n",
      "/home/hironu/anaconda3/lib/python3.7/site-packages/ipykernel_launcher.py:27: SettingWithCopyWarning: \n",
      "A value is trying to be set on a copy of a slice from a DataFrame\n",
      "\n",
      "See the caveats in the documentation: https://pandas.pydata.org/pandas-docs/stable/user_guide/indexing.html#returning-a-view-versus-a-copy\n"
     ]
    }
   ],
   "source": [
    "#troca pontos por traços na data\n",
    "win['Data'] = win['Data'].map(lambda x: x.replace('.','-'))\n",
    "wdo['Data'] = wdo['Data'].map(lambda x: x.replace('.','-'))\n",
    "\n",
    "#remove % , troca virgula por pontos\n",
    "win['Var%']= win['Var%'].map(lambda a: a.replace('%',''))\n",
    "win['Var%']= win['Var%'].map(lambda a: a.replace(',','.'))\n",
    "\n",
    "wdo['Var%']= wdo['Var%'].map(lambda a: a.replace('%',''))\n",
    "wdo['Var%']= wdo['Var%'].map(lambda a: a.replace(',','.'))\n",
    "\n",
    "#no win vamos remover o ponto e substuir a virgula por ponto\n",
    "win['Último'] = win['Último'].map(lambda x: x.replace('.',''))\n",
    "win['Último'] = win['Último'].map(lambda x: x.replace(',','.'))\n",
    "\n",
    "#no wdo vamos remover o ponto e substuir a virgula por ponto\n",
    "wdo['Último'] = wdo['Último'].map(lambda x: x.replace('.',''))\n",
    "wdo['Último'] = wdo['Último'].map(lambda x: x.replace(',','.'))\n",
    "\n",
    "#Trasforma str em float\n",
    "for i in range(len(win['Var%'])):\n",
    "    \n",
    "    win['Var%'][i] = float(win['Var%'][i])\n",
    "    win['Último'][i] = float(win['Último'][i])\n",
    "    \n",
    "    wdo['Var%'][i] = float(wdo['Var%'][i])\n",
    "    wdo['Último'][i] = float(wdo['Último'][i])\n",
    "\n",
    "\n",
    "win['Data'] = pd.to_datetime(win['Data'],format='%d-%m-%Y',errors='coerce')\n",
    "\n",
    "wdo['Data'] = pd.to_datetime(wdo['Data'],format='%d-%m-%Y',errors='coerce')\n",
    "\n",
    "\n",
    "\n"
   ]
  },
  {
   "cell_type": "code",
   "execution_count": 90,
   "metadata": {},
   "outputs": [
    {
     "data": {
      "text/plain": [
       "<matplotlib.legend.Legend at 0x7f2baff97d10>"
      ]
     },
     "execution_count": 90,
     "metadata": {},
     "output_type": "execute_result"
    },
    {
     "data": {
      "image/png": "[encoded data removed]",
      "text/plain": [
       "<Figure size 432x288 with 1 Axes>"
      ]
     },
     "metadata": {
      "needs_background": "light"
     },
     "output_type": "display_data"
    }
   ],
   "source": [
    "plt.title(\"Comparativo de Var% percentual entre WIN e WDO \\n 03-04-2019/03-04-2019\")\n",
    "plt.plot(win['Data'], win['Var%'],label=\"win\")\n",
    "plt.plot(wdo['Data'], wdo['Var%'],label=\"wdo\")\n",
    "plt.legend()"
   ]
  },
  {
   "cell_type": "code",
   "execution_count": 107,
   "metadata": {},
   "outputs": [
    {
     "name": "stderr",
     "output_type": "stream",
     "text": [
      "/home/hironu/anaconda3/lib/python3.7/site-packages/ipykernel_launcher.py:6: SettingWithCopyWarning: \n",
      "A value is trying to be set on a copy of a slice from a DataFrame\n",
      "\n",
      "See the caveats in the documentation: https://pandas.pydata.org/pandas-docs/stable/user_guide/indexing.html#returning-a-view-versus-a-copy\n",
      "  \n",
      "/home/hironu/anaconda3/lib/python3.7/site-packages/ipykernel_launcher.py:4: SettingWithCopyWarning: \n",
      "A value is trying to be set on a copy of a slice from a DataFrame\n",
      "\n",
      "See the caveats in the documentation: https://pandas.pydata.org/pandas-docs/stable/user_guide/indexing.html#returning-a-view-versus-a-copy\n",
      "  after removing the cwd from sys.path.\n"
     ]
    }
   ],
   "source": [
    "win['2020'] = 0\n",
    "for i in range(len(win['Data'])):\n",
    "    if win['Data'][i] > win['Data'][186]:\n",
    "        win['2020'][i] = 1\n",
    "    else:\n",
    "        win['2020'][i] = 0\n"
   ]
  },
  {
   "cell_type": "code",
   "execution_count": 108,
   "metadata": {},
   "outputs": [
    {
     "data": {
      "text/plain": [
       "<matplotlib.axes._subplots.AxesSubplot at 0x7f2badf4a590>"
      ]
     },
     "execution_count": 108,
     "metadata": {},
     "output_type": "execute_result"
    },
    {
     "data": {
      "image/png": "[encoded data removed]",
      "text/plain": [
       "<Figure size 432x288 with 1 Axes>"
      ]
     },
     "metadata": {
      "needs_background": "light"
     },
     "output_type": "display_data"
    }
   ],
   "source": [
    "sns.scatterplot(win['Var%'],wdo['Var%'],hue=win['2020'])\n",
    "#plt.savefig(\"isthismonotonic.jpg\")"
   ]
  },
  {
   "cell_type": "code",
   "execution_count": 111,
   "metadata": {},
   "outputs": [
    {
     "data": {
      "text/plain": [
       "<matplotlib.axes._subplots.AxesSubplot at 0x7f2bade67c50>"
      ]
     },
     "execution_count": 111,
     "metadata": {},
     "output_type": "execute_result"
    },
    {
     "data": {
      "image/png": "[encoded data removed]",
      "text/plain": [
       "<Figure size 432x288 with 1 Axes>"
      ]
     },
     "metadata": {
      "needs_background": "light"
     },
     "output_type": "display_data"
    }
   ],
   "source": [
    "sns.scatterplot(win['Último'],wdo['Último'])"
   ]
  },
  {
   "cell_type": "code",
   "execution_count": 112,
   "metadata": {},
   "outputs": [
    {
     "data": {
      "text/plain": [
       "<matplotlib.axes._subplots.AxesSubplot at 0x7f2baddd13d0>"
      ]
     },
     "execution_count": 112,
     "metadata": {},
     "output_type": "execute_result"
    },
    {
     "data": {
      "image/png": "[encoded data removed]",
      "text/plain": [
       "<Figure size 432x288 with 1 Axes>"
      ]
     },
     "metadata": {
      "needs_background": "light"
     },
     "output_type": "display_data"
    }
   ],
   "source": [
    "sns.scatterplot(win['Último'],wdo['Último'],hue=win['2020'])"
   ]
  },
  {
   "cell_type": "code",
   "execution_count": 12,
   "metadata": {},
   "outputs": [
    {
     "data": {
      "image/png": "[encoded data removed]",
      "text/plain": [
       "<Figure size 432x288 with 1 Axes>"
      ]
     },
     "metadata": {
      "needs_background": "light"
     },
     "output_type": "display_data"
    }
   ],
   "source": [
    "\n",
    "plt.hist(win['Var%'],color='gray',label='Win')\n",
    "plt.hist(wdo['Var%'],color='blue',label='Wdo')\n",
    "plt.title('histograma WIN contra WDO em Variação de % Diaria')\n",
    "plt.legend()\n",
    "plt.show()"
   ]
  },
  {
   "cell_type": "code",
   "execution_count": 13,
   "metadata": {},
   "outputs": [
    {
     "data": {
      "image/png": "[encoded data removed]",
      "text/plain": [
       "<Figure size 432x288 with 1 Axes>"
      ]
     },
     "metadata": {
      "needs_background": "light"
     },
     "output_type": "display_data"
    }
   ],
   "source": [
    "\n",
    "plt.hist(win['Último'],color='gray',label='WIN',bins=10)\n",
    "plt.title('Histograma WIN em pontos 03/04/2019-03/04/2020 ')\n",
    "plt.legend()\n",
    "plt.show()\n"
   ]
  },
  {
   "cell_type": "code",
   "execution_count": 14,
   "metadata": {},
   "outputs": [
    {
     "data": {
      "text/plain": [
       "<matplotlib.legend.Legend at 0x7f675805cf90>"
      ]
     },
     "execution_count": 14,
     "metadata": {},
     "output_type": "execute_result"
    },
    {
     "data": {
      "image/png": "[encoded data removed]",
      "text/plain": [
       "<Figure size 432x288 with 1 Axes>"
      ]
     },
     "metadata": {
      "needs_background": "light"
     },
     "output_type": "display_data"
    }
   ],
   "source": [
    "\n",
    "plt.hist(wdo['Último'],color='blue',label='WDO',bins=10)\n",
    "plt.title('Histograma WDo em R$ - 03/04/2019-03/04/2020 ')\n",
    "plt.legend()\n"
   ]
  },
  {
   "cell_type": "code",
   "execution_count": 15,
   "metadata": {},
   "outputs": [
    {
     "name": "stdout",
     "output_type": "stream",
     "text": [
      "teste de Shapiro-Wilk para Var% WIN  (0.7183146476745605, 2.5525381680231412e-20)\n",
      "teste de Shapiro-Wilk para Var% WDO  (0.9491981863975525, 1.1344484818209821e-07)\n",
      "teste de Shapiro-Wilk para Pontos Win  (0.8936471939086914, 2.6904865054605542e-12)\n",
      "teste de Shapiro-Wilk para Cotação WDO  (0.8936471939086914, 2.6904865054605542e-12)\n"
     ]
    }
   ],
   "source": [
    "#O teste de shapiro wilk testa se os dados são normalmente distribuidos\n",
    "\n",
    "print(\"teste de Shapiro-Wilk para Var% WIN \",stats.shapiro(win['Var%']))\n",
    "\n",
    "print(\"teste de Shapiro-Wilk para Var% WDO \",stats.shapiro(wdo['Var%']))\n",
    "\n",
    "print(\"teste de Shapiro-Wilk para Pontos Win \",stats.shapiro(win['Último']))\n",
    "\n",
    "print(\"teste de Shapiro-Wilk para Cotação WDO \",stats.shapiro(win['Último']))"
   ]
  },
  {
   "cell_type": "code",
   "execution_count": 16,
   "metadata": {},
   "outputs": [
    {
     "name": "stdout",
     "output_type": "stream",
     "text": [
      "Maximo valor Cotação em pontos Win 119808.0\n",
      "Mínimo valor cotação em pontos Win 63099.0\n",
      "Media valor Cotação em pontos Win 102466.54581673307\n",
      "Mediana valor Cotação em pontos Win 103837.0\n",
      "Devio Padrão Cotação em pontos Win 11054.644711887768\n",
      "Moda valor Cotação em pontos Win [(94665.0, 1)]\n"
     ]
    }
   ],
   "source": [
    "numericalWinCot = np.array(win['Último'])\n",
    "numericalWinVar = np.array(win['Var%'])\n",
    "\n",
    "numericalWdoCot = np.array(wdo['Último'])\n",
    "numericalWdoVar = np.array(wdo['Var%'])\n",
    "\n",
    "#WIN Pontos\n",
    "print(\"Maximo valor Cotação em pontos Win\",numericalWinCot.max())\n",
    "print(\"Mínimo valor cotação em pontos Win\",numericalWinCot.min())\n",
    "print(\"Media valor Cotação em pontos Win\", numericalWinCot.mean())\n",
    "print(\"Mediana valor Cotação em pontos Win\", np.median(numericalWinCot))\n",
    "print(\"Devio Padrão Cotação em pontos Win\",numericalWinCot.std())\n",
    "\n",
    "winCotModa = Counter(numericalWinCot)\n",
    "print(\"Moda valor Cotação em pontos Win\",winCotModa.most_common(1))\n",
    "\n",
    "\n"
   ]
  },
  {
   "cell_type": "code",
   "execution_count": 17,
   "metadata": {},
   "outputs": [
    {
     "name": "stdout",
     "output_type": "stream",
     "text": [
      "Maximo valor Variação no Win 14.63\n",
      "Mínimo valor Variação no Win -15.0\n",
      "Media valor Variaçaõ no Win -0.09621513944223105\n",
      "Mediana valor Variaçao no Win 0.1\n",
      "Devio Padrão Variação no Win 2.6448858449842194\n",
      "Moda valor Cotação em pontos Win [(-0.17, 4)]\n"
     ]
    }
   ],
   "source": [
    "\n",
    "#WIN Variação\n",
    "print(\"Maximo valor Variação no Win\",numericalWinVar.max())\n",
    "print(\"Mínimo valor Variação no Win\",numericalWinVar.min())\n",
    "print(\"Media valor Variaçaõ no Win\", numericalWinVar.mean())\n",
    "print(\"Mediana valor Variaçao no Win\", np.median(numericalWinVar))\n",
    "print(\"Devio Padrão Variação no Win\",numericalWinVar.std())\n",
    "\n",
    "winVarModa = Counter(numericalWinVar)\n",
    "print(\"Moda valor Cotação em pontos Win\",winVarModa.most_common(1))\n",
    "\n",
    "\n",
    "\n"
   ]
  },
  {
   "cell_type": "code",
   "execution_count": 18,
   "metadata": {},
   "outputs": [
    {
     "name": "stdout",
     "output_type": "stream",
     "text": [
      "Maximo valor Cotação em pontos Wdo 5326.5\n",
      "Mínimo valor cotação em pontos Wdo 3733.44\n",
      "Media valor Cotação em pontos Wdo 4137.8041832669305\n",
      "Mediana valor Cotação em pontos Wdo 4084.76\n",
      "Devio Padrão Cotaão em pontos 318.03071200830317\n",
      "Moda valor Cotação em pontos Win [(4146.95, 2)]\n"
     ]
    }
   ],
   "source": [
    "#WDO Cotação\n",
    "print(\"Maximo valor Cotação em pontos Wdo\",numericalWdoCot.max())\n",
    "print(\"Mínimo valor cotação em pontos Wdo\",numericalWdoCot.min())\n",
    "print(\"Media valor Cotação em pontos Wdo\", numericalWdoCot.mean())\n",
    "print(\"Mediana valor Cotação em pontos Wdo\", np.median(numericalWdoCot))\n",
    "print(\"Devio Padrão Cotaão em pontos\",numericalWdoCot.std())\n",
    "\n",
    "wdoCotModa = Counter(numericalWdoCot)\n",
    "print(\"Moda valor Cotação em pontos Win\",wdoCotModa.most_common(1))\n"
   ]
  },
  {
   "cell_type": "code",
   "execution_count": 19,
   "metadata": {},
   "outputs": [
    {
     "name": "stdout",
     "output_type": "stream",
     "text": [
      "Maximo valor variação no  Wdo 4.67\n",
      "Mínimo valor variação no Wdo -2.32\n",
      "Media valor variação no Wdo 0.13187250996015937\n",
      "Mediana valor variaçao no Wdo 0.13\n",
      "Devio Padrão Variação no Wdo 0.8594740815718066\n",
      "Moda valor Cotação em pontos Win [(0.13, 6)]\n"
     ]
    }
   ],
   "source": [
    "\n",
    "#WDO Variação\n",
    "print(\"Maximo valor variação no  Wdo\",numericalWdoVar.max())\n",
    "print(\"Mínimo valor variação no Wdo\",numericalWdoVar.min())\n",
    "print(\"Media valor variação no Wdo\", numericalWdoVar.mean())\n",
    "print(\"Mediana valor variaçao no Wdo\", np.median(numericalWdoVar))\n",
    "print(\"Devio Padrão Variação no Wdo\",numericalWdoVar.std())\n",
    "\n",
    "wdoVarModa = Counter(numericalWdoVar)\n",
    "print(\"Moda valor Cotação em pontos Win\",wdoVarModa.most_common(1))"
   ]
  },
  {
   "cell_type": "code",
   "execution_count": 20,
   "metadata": {},
   "outputs": [
    {
     "name": "stdout",
     "output_type": "stream",
     "text": [
      "122205169.70606814\n",
      "6.9954211329978895\n",
      "101143.53378050827\n",
      "0.7386956968937001\n"
     ]
    }
   ],
   "source": [
    "#Variancia da Cotação do Win entre 3/4/2019 - 3/4/2020\n",
    "WinCotVariance = np.sum(np.square([x_winCot - numericalWinCot.mean() for x_winCot in numericalWinCot]))/len(numericalWinCot)\n",
    "\n",
    "#Variancia da Variação do Win entre 3/4/2019 - 3/4/2020\n",
    "WinVarVariance = np.sum(np.square([x_winVar - numericalWinVar.mean() for x_winVar in numericalWinVar]))/len(numericalWinCot)\n",
    "\n",
    "#Variancia da Cotação do Wdo entre 3/4/2019 - 3/4/2020\n",
    "WdoCotVariance = np.sum(np.square([x_wdoCot - numericalWdoCot.mean() for x_wdoCot in numericalWdoCot]))/len(numericalWdoCot)\n",
    "\n",
    "#Variancia da Variação do Wdo entre 3/4/2019 - 3/4/2020\n",
    "WdoVarVariance = np.sum(np.square([x_wdoVar - numericalWdoVar.mean() for x_wdoVar in numericalWdoVar]))/len(numericalWdoVar)\n",
    "\n",
    "print(WinCotVariance)\n",
    "print(WinVarVariance)\n",
    "print(WdoCotVariance)\n",
    "print(WdoVarVariance)\n"
   ]
  },
  {
   "cell_type": "markdown",
   "metadata": {},
   "source": [
    "Acima calculei a variação escrevendo todas os detalhes, mas graças a numpy é possivel calcular a variancia como descrito abaixo"
   ]
  },
  {
   "cell_type": "code",
   "execution_count": 21,
   "metadata": {},
   "outputs": [
    {
     "name": "stdout",
     "output_type": "stream",
     "text": [
      "122205169.70606817\n",
      "6.9954211329978895\n",
      "101143.53378050825\n",
      "0.7386956968937004\n"
     ]
    }
   ],
   "source": [
    "print(np.var(numericalWinCot))\n",
    "print(np.var(numericalWinVar))\n",
    "print(np.var(numericalWdoCot))\n",
    "print(np.var(numericalWdoVar))"
   ]
  },
  {
   "cell_type": "code",
   "execution_count": 22,
   "metadata": {},
   "outputs": [
    {
     "name": "stdout",
     "output_type": "stream",
     "text": [
      "Covariancia entre IND Var% e WDO Var [[ 7.02340282 -1.22589352]\n",
      " [-1.22589352  0.74165048]]\n",
      "Covariancia entre IND Cot e WDO Cot [[ 1.22693990e+08 -1.75892549e+06]\n",
      " [-1.75892549e+06  1.01548108e+05]]\n"
     ]
    }
   ],
   "source": [
    "print(\"Covariancia entre IND Var% e WDO Var\", np.cov(numericalWinVar.astype(float),numericalWdoVar.astype(float)))\n",
    "print(\"Covariancia entre IND Cot e WDO Cot\", np.cov(numericalWinCot.astype(float),numericalWdoCot.astype(float)))"
   ]
  },
  {
   "cell_type": "code",
   "execution_count": 23,
   "metadata": {},
   "outputs": [
    {
     "data": {
      "text/plain": [
       "-1.2210094776273392"
      ]
     },
     "execution_count": 23,
     "metadata": {},
     "output_type": "execute_result"
    }
   ],
   "source": [
    "np.sum(np.array([x_a - numericalWinVar.mean() for x_a in numericalWinVar]) * np.array([x_b - numericalWdoVar.mean() for x_b in numericalWdoVar]))/len(numericalWdoVar)\n"
   ]
  },
  {
   "cell_type": "markdown",
   "metadata": {},
   "source": [
    "Podemos Calcular a amplitude total:"
   ]
  },
  {
   "cell_type": "code",
   "execution_count": 24,
   "metadata": {},
   "outputs": [
    {
     "name": "stdout",
     "output_type": "stream",
     "text": [
      "Amplitude total em pontos 56709.0\n",
      "Amplitude total em reais 1593.06\n",
      "\n",
      "Amplitude total em % da Variação do Win 29.630000000000003\n",
      "Amplitudo total em % da Variação do Wdo 6.99\n"
     ]
    }
   ],
   "source": [
    "print(\"Amplitude total em pontos\", numericalWinCot.max() - numericalWinCot.min())\n",
    "print(\"Amplitude total em reais\",numericalWdoCot.max() - numericalWdoCot.min())\n",
    "\n",
    "print(\"\\nAmplitude total em % da Variação do Win\", numericalWinVar.max()-numericalWinVar.min())\n",
    "print(\"Amplitudo total em % da Variação do Wdo\", numericalWdoVar.max()- numericalWdoVar.min())"
   ]
  },
  {
   "cell_type": "markdown",
   "metadata": {},
   "source": [
    "## Corrrelação mostra a interdependencia entre 2 variaveis\n",
    "\n",
    "\n",
    "### Pearson Correlation "
   ]
  },
  {
   "cell_type": "code",
   "execution_count": 25,
   "metadata": {},
   "outputs": [
    {
     "name": "stdout",
     "output_type": "stream",
     "text": [
      "CORRELAÇÂO DE PEARSON\n",
      " 1-Correlaão , 2-P-Value\n",
      "Correlação cotação WIn e Wdo (-0.49831031849356316, 3.693291525012465e-17)\n",
      "Correlação de Variação % Win e Wdo  (-0.5371298870220553, 3.666787076126128e-20)\n"
     ]
    }
   ],
   "source": [
    "print(\"CORRELAÇÂO DE PEARSON\\n 1-Correlaão , 2-P-Value\")\n",
    "print(\"Correlação cotação WIn e Wdo\",stats.pearsonr(numericalWinCot,numericalWdoCot))\n",
    "print(\"Correlação de Variação % Win e Wdo \",stats.pearsonr(numericalWinVar,numericalWdoVar))"
   ]
  },
  {
   "cell_type": "markdown",
   "metadata": {},
   "source": [
    "###  Spearman Correlation"
   ]
  },
  {
   "cell_type": "code",
   "execution_count": 26,
   "metadata": {},
   "outputs": [
    {
     "name": "stdout",
     "output_type": "stream",
     "text": [
      "Correlação spearman Cot Win e Wdo SpearmanrResult(correlation=0.19516110703113743, pvalue=0.0018936454364211187)\n",
      "Correlação spearman Var% Win e Wdo SpearmanrResult(correlation=-0.47216537261659475, pvalue=2.426924587053076e-15)\n"
     ]
    }
   ],
   "source": [
    "print(\"Correlação spearman Cot Win e Wdo\",stats.spearmanr(numericalWinCot,numericalWdoCot))\n",
    "print(\"Correlação spearman Var% Win e Wdo\",stats.spearmanr(numericalWinVar,numericalWdoVar))"
   ]
  },
  {
   "cell_type": "markdown",
   "metadata": {},
   "source": [
    "# Regressão Linear"
   ]
  },
  {
   "cell_type": "code",
   "execution_count": 32,
   "metadata": {},
   "outputs": [
    {
     "name": "stdout",
     "output_type": "stream",
     "text": [
      "LinregressResult(slope=-0.17454409883455804, intercept=0.11507872515197377, rvalue=-0.5371298870220553, pvalue=3.666787076125386e-20, stderr=0.017370448500715303)\n"
     ]
    }
   ],
   "source": [
    "regressor = stats.linregress(numericalWinVar.astype(float),numericalWdoVar.astype(float))\n",
    "print(regressor)\n"
   ]
  },
  {
   "cell_type": "code",
   "execution_count": 104,
   "metadata": {},
   "outputs": [
    {
     "data": {
      "text/plain": [
       "Timestamp('2020-01-02 00:00:00')"
      ]
     },
     "execution_count": 104,
     "metadata": {},
     "output_type": "execute_result"
    }
   ],
   "source": [
    "win['Data'][186]"
   ]
  },
  {
   "cell_type": "code",
   "execution_count": null,
   "metadata": {},
   "outputs": [],
   "source": []
  }
 ],
 "metadata": {
  "kernelspec": {
   "display_name": "Python 3",
   "language": "python",
   "name": "python3"
  },
  "language_info": {
   "codemirror_mode": {
    "name": "ipython",
    "version": 3
   },
   "file_extension": ".py",
   "mimetype": "text/x-python",
   "name": "python",
   "nbconvert_exporter": "python",
   "pygments_lexer": "ipython3",
   "version": "3.7.4"
  }
 },
 "nbformat": 4,
 "nbformat_minor": 2
}
